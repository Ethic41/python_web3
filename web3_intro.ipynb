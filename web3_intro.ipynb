{
 "cells": [
  {
   "cell_type": "code",
   "execution_count": 3,
   "metadata": {},
   "outputs": [],
   "source": [
    "#!/usr/bin/env python\n",
    "# -=-<[ Bismillahirrahmanirrahim ]>-=-\n",
    "# -*- coding: utf-8 -*-\n",
    "# @Date    : 2023-01-02 22:49:20\n",
    "# @Author  : Dahir Muhammad Dahir (dahirmuhammad3@gmail.com)\n",
    "# @Link    : link\n",
    "# @Version : 1.0.0\n",
    "\n",
    "\n",
    "from web3 import Web3, EthereumTesterProvider\n"
   ]
  },
  {
   "cell_type": "code",
   "execution_count": 26,
   "metadata": {},
   "outputs": [
    {
     "data": {
      "text/plain": [
       "True"
      ]
     },
     "execution_count": 26,
     "metadata": {},
     "output_type": "execute_result"
    }
   ],
   "source": [
    "# connect to local ganache provider\n",
    "\n",
    "w3 = Web3(Web3.HTTPProvider('http://127.0.0.1:7545'))\n",
    "goerli_net = Web3(Web3.HTTPProvider('https://rpc.ankr.com/eth_goerli'))\n",
    "\n",
    "w3.isConnected()"
   ]
  },
  {
   "cell_type": "code",
   "execution_count": 11,
   "metadata": {},
   "outputs": [
    {
     "data": {
      "text/plain": [
       "AttributeDict({'number': 188,\n",
       " 'hash': HexBytes('0x033c14c9ab6907d0436f53534a83303db617ea644f273c3b190b547689f2bec0'),\n",
       " 'parentHash': HexBytes('0x7085bbb1210a429a0132ee845ecd595d9e6ed76adbe4d2503a39d149cbde6ac2'),\n",
       " 'mixHash': HexBytes('0x0000000000000000000000000000000000000000000000000000000000000000'),\n",
       " 'nonce': HexBytes('0x0000000000000000'),\n",
       " 'sha3Uncles': HexBytes('0x1dcc4de8dec75d7aab85b567b6ccd41ad312451b948a7413f0a142fd40d49347'),\n",
       " 'logsBloom': HexBytes('0x00000000000000000000000000000000000000000000000000000000000000000000000000000000000000000000000000000000000000000000000000000000000000000000000000000000000000000000000000000000000000000000000000000000000000000000000000000000000000000000000000000000000000000000000000000000000000000000000000000000000000000000000000000000000000000000000000000000000000000000000000000000000000000000000000000000000000000000000000000000000000000000000000000000000000000000000000000000000000000000000000000000000000000000000000000000'),\n",
       " 'transactionsRoot': HexBytes('0xf5c831f7a2f1aba560b8287a36462e320d3dc90b85ff2bc472f398fb60d44d64'),\n",
       " 'stateRoot': HexBytes('0x730af2e69075eacc49ab1b47af7cd0e55e37368135b24a4a25b6d74682aa4cce'),\n",
       " 'receiptsRoot': HexBytes('0x642cd2bcdba228efb3996bf53981250d3608289522b80754c4e3c085c93c806f'),\n",
       " 'miner': '0x0000000000000000000000000000000000000000',\n",
       " 'difficulty': 0,\n",
       " 'totalDifficulty': 0,\n",
       " 'extraData': HexBytes('0x'),\n",
       " 'size': 1000,\n",
       " 'gasLimit': 6721975,\n",
       " 'gasUsed': 21000,\n",
       " 'timestamp': 1672572352,\n",
       " 'transactions': [HexBytes('0x6b72dbe38cb2a697dc116b29c95630e4a37da36e432e591a8a8879ad0d464937')],\n",
       " 'uncles': []})"
      ]
     },
     "execution_count": 11,
     "metadata": {},
     "output_type": "execute_result"
    }
   ],
   "source": [
    "w3.eth.get_block('latest')"
   ]
  },
  {
   "cell_type": "code",
   "execution_count": 15,
   "metadata": {},
   "outputs": [
    {
     "data": {
      "text/plain": [
       "['0x048C80906668A4B12DD725BBE75F8E70dfA9B1CF',\n",
       " '0x6D04972aaf68f02F542D0565830De58EA06fc590',\n",
       " '0x1F57F56A8c535d75dA49375066B7f0aa992374fF',\n",
       " '0xB7dF37d97260FC4EDa426F016460AEC6f1ee64F2',\n",
       " '0x348cc4C3b328E07017337B01155974a7bf09eCe9',\n",
       " '0x1f442116e05BD25F5E978e0B6558A6ab1C5B51F1',\n",
       " '0x57ddC40eBF11F65FD7E1d362d417428473Cc678E',\n",
       " '0x493C6bBe05fdDD63a57d8824D9774C22920047E5',\n",
       " '0x0A82C9a5002E3F878b30B9C65AbcE19A26255E07',\n",
       " '0x2b2F14E03CBaa0a05ef3F81Cc938F56A7F42A9eD']"
      ]
     },
     "execution_count": 15,
     "metadata": {},
     "output_type": "execute_result"
    }
   ],
   "source": [
    "w3.eth.accounts"
   ]
  },
  {
   "cell_type": "code",
   "execution_count": 16,
   "metadata": {},
   "outputs": [
    {
     "data": {
      "text/plain": [
       "AttributeDict({'number': 188,\n",
       " 'hash': HexBytes('0x033c14c9ab6907d0436f53534a83303db617ea644f273c3b190b547689f2bec0'),\n",
       " 'parentHash': HexBytes('0x7085bbb1210a429a0132ee845ecd595d9e6ed76adbe4d2503a39d149cbde6ac2'),\n",
       " 'mixHash': HexBytes('0x0000000000000000000000000000000000000000000000000000000000000000'),\n",
       " 'nonce': HexBytes('0x0000000000000000'),\n",
       " 'sha3Uncles': HexBytes('0x1dcc4de8dec75d7aab85b567b6ccd41ad312451b948a7413f0a142fd40d49347'),\n",
       " 'logsBloom': HexBytes('0x00000000000000000000000000000000000000000000000000000000000000000000000000000000000000000000000000000000000000000000000000000000000000000000000000000000000000000000000000000000000000000000000000000000000000000000000000000000000000000000000000000000000000000000000000000000000000000000000000000000000000000000000000000000000000000000000000000000000000000000000000000000000000000000000000000000000000000000000000000000000000000000000000000000000000000000000000000000000000000000000000000000000000000000000000000000'),\n",
       " 'transactionsRoot': HexBytes('0xf5c831f7a2f1aba560b8287a36462e320d3dc90b85ff2bc472f398fb60d44d64'),\n",
       " 'stateRoot': HexBytes('0x730af2e69075eacc49ab1b47af7cd0e55e37368135b24a4a25b6d74682aa4cce'),\n",
       " 'receiptsRoot': HexBytes('0x642cd2bcdba228efb3996bf53981250d3608289522b80754c4e3c085c93c806f'),\n",
       " 'miner': '0x0000000000000000000000000000000000000000',\n",
       " 'difficulty': 0,\n",
       " 'totalDifficulty': 0,\n",
       " 'extraData': HexBytes('0x'),\n",
       " 'size': 1000,\n",
       " 'gasLimit': 6721975,\n",
       " 'gasUsed': 21000,\n",
       " 'timestamp': 1672572352,\n",
       " 'transactions': [HexBytes('0x6b72dbe38cb2a697dc116b29c95630e4a37da36e432e591a8a8879ad0d464937')],\n",
       " 'uncles': []})"
      ]
     },
     "execution_count": 16,
     "metadata": {},
     "output_type": "execute_result"
    }
   ],
   "source": [
    "w3.eth.get_block(\"latest\")"
   ]
  },
  {
   "cell_type": "code",
   "execution_count": 17,
   "metadata": {},
   "outputs": [
    {
     "data": {
      "text/plain": [
       "188"
      ]
     },
     "execution_count": 17,
     "metadata": {},
     "output_type": "execute_result"
    }
   ],
   "source": [
    "w3.eth.block_number\n"
   ]
  },
  {
   "cell_type": "code",
   "execution_count": 18,
   "metadata": {},
   "outputs": [
    {
     "data": {
      "text/plain": [
       "1337"
      ]
     },
     "execution_count": 18,
     "metadata": {},
     "output_type": "execute_result"
    }
   ],
   "source": [
    "w3.eth.chain_id"
   ]
  },
  {
   "cell_type": "code",
   "execution_count": 19,
   "metadata": {},
   "outputs": [
    {
     "data": {
      "text/plain": [
       "'0x048C80906668A4B12DD725BBE75F8E70dfA9B1CF'"
      ]
     },
     "execution_count": 19,
     "metadata": {},
     "output_type": "execute_result"
    }
   ],
   "source": [
    "w3.eth.coinbase"
   ]
  },
  {
   "cell_type": "code",
   "execution_count": 20,
   "metadata": {},
   "outputs": [
    {
     "data": {
      "text/plain": [
       "<web3._utils.empty.Empty at 0x7fb03c075330>"
      ]
     },
     "execution_count": 20,
     "metadata": {},
     "output_type": "execute_result"
    }
   ],
   "source": [
    "w3.eth.default_account"
   ]
  },
  {
   "cell_type": "code",
   "execution_count": 21,
   "metadata": {},
   "outputs": [
    {
     "data": {
      "text/plain": [
       "20000000000"
      ]
     },
     "execution_count": 21,
     "metadata": {},
     "output_type": "execute_result"
    }
   ],
   "source": [
    "w3.eth.gas_price"
   ]
  },
  {
   "cell_type": "code",
   "execution_count": 22,
   "metadata": {},
   "outputs": [
    {
     "data": {
      "text/plain": [
       "0"
      ]
     },
     "execution_count": 22,
     "metadata": {},
     "output_type": "execute_result"
    }
   ],
   "source": [
    "w3.eth.hashrate"
   ]
  },
  {
   "cell_type": "code",
   "execution_count": 25,
   "metadata": {},
   "outputs": [
    {
     "data": {
      "text/plain": [
       "83611451897999999999"
      ]
     },
     "execution_count": 25,
     "metadata": {},
     "output_type": "execute_result"
    }
   ],
   "source": [
    "w3.eth.get_balance('0x048C80906668A4B12DD725BBE75F8E70dfA9B1CF')\n"
   ]
  },
  {
   "cell_type": "code",
   "execution_count": 27,
   "metadata": {},
   "outputs": [
    {
     "data": {
      "text/plain": [
       "9483133493509293956"
      ]
     },
     "execution_count": 27,
     "metadata": {},
     "output_type": "execute_result"
    }
   ],
   "source": [
    "goerli_net.eth.get_balance('0x8407B49453E2A8f974a8E466D05363B55B3a788C')"
   ]
  },
  {
   "cell_type": "code",
   "execution_count": 30,
   "metadata": {},
   "outputs": [
    {
     "data": {
      "text/plain": [
       "8248398"
      ]
     },
     "execution_count": 30,
     "metadata": {},
     "output_type": "execute_result"
    }
   ],
   "source": [
    "goerli_net.eth.block_number"
   ]
  },
  {
   "cell_type": "code",
   "execution_count": 33,
   "metadata": {},
   "outputs": [
    {
     "data": {
      "text/plain": [
       "AttributeDict({'baseFeePerGas': 21,\n",
       " 'difficulty': 0,\n",
       " 'extraData': HexBytes('0x'),\n",
       " 'gasLimit': 30000000,\n",
       " 'gasUsed': 29568766,\n",
       " 'hash': HexBytes('0x172920a63e0f1f931e752d3b65aecd4c9cc735c23c690974ccd570557f59f441'),\n",
       " 'logsBloom': HexBytes('0x02200996108c68683ad004b6cb000902220061108b40c87608dc0c4402a0870c106c957d8204a082c50a07821181083560e38045041f299250140610a4212021c42d10200c480108488c03090466002f2401814187ba32922010c9bcc281942465600f117709c0a0405c081280017cbe0bc02a0a0a802104328e5e50900c0960001c54a765a0681134080a132a080306c54d94c1878826fa400180614265464c020478a01000bbc8003410d2860644b2032041070600801000b740282610c020214042731b2965506014a50c4c9d6a1018d9156d0680411000904f7281c0202021b58307256a252a1ea420884050090a000d08d84600014007ea001a92172300'),\n",
       " 'miner': '0xf36F155486299eCAff2D4F5160ed5114C1f66000',\n",
       " 'mixHash': HexBytes('0x10430fef2a2999d964db34a935b4f283e72ad87a7eb0eb3518a015e7e8371cea'),\n",
       " 'nonce': HexBytes('0x0000000000000000'),\n",
       " 'number': 8248423,\n",
       " 'parentHash': HexBytes('0xc1f973a0cd748810de5a77d0b33c14a71cfed97944ce5df8eda0a41e93eda7fb'),\n",
       " 'receiptsRoot': HexBytes('0xfb90e275b1d385b816b0bf3cf277c57c8483b51fdefed98ab65df634629ade6f'),\n",
       " 'sha3Uncles': HexBytes('0x1dcc4de8dec75d7aab85b567b6ccd41ad312451b948a7413f0a142fd40d49347'),\n",
       " 'size': 50990,\n",
       " 'stateRoot': HexBytes('0xa8806e3cd2a01ca889d0e9467cf511543d47a19dad36ec7bdea4c9efef251ae6'),\n",
       " 'timestamp': 1672727280,\n",
       " 'totalDifficulty': 10790000,\n",
       " 'transactions': [HexBytes('0xd33b05e7983df6984ad950494dd06031f3c6756b20a17af5158162231dacc23a'),\n",
       "  HexBytes('0x855758a5f5b6238ca127eadabbc38dc747164f5b4466ae20e7863fe3b01b0b28'),\n",
       "  HexBytes('0x0dba48fe5b2866ff974e8999201c17a9b9be064df49009e017f3912dabe1fd24'),\n",
       "  HexBytes('0xc034ecde3ade052e21d5329c0f2a864c53fde7725b916585b0a1225974a9fcd8'),\n",
       "  HexBytes('0xa7464f36d3416995e07ccd8fd5a610decced97b8b7bce438394bc2cada8056ce'),\n",
       "  HexBytes('0x9e99ec3073dc703173f262f4da87a6b22ebcdb5c5681edae10f63a9ee3fa90bf'),\n",
       "  HexBytes('0x7d43a0347509e963c3d898c5cdbe64b0a5556aeab53ff9b3c70aebdd7019e719'),\n",
       "  HexBytes('0x212d6647a5112e1a24afabaab190aef3968d5fed0e1652e0d2b37dc600427297'),\n",
       "  HexBytes('0x76d7000aab1032f69ffdb4c83e7f989753b9a4a184015d5ec4f3ca96a11247b5'),\n",
       "  HexBytes('0x34db1d31b3c2cd2aab113437d0710a128e08b1284c8b881bd41a3eb584584da1'),\n",
       "  HexBytes('0x670a61561ef0cc7d4dd66919099c20a7f10bf0f92faf444091d3a619c36f16b8'),\n",
       "  HexBytes('0x580d1a2e65ae5667c11f11b803756296a596edc94e0ec29792cd6c512c849b08'),\n",
       "  HexBytes('0x4f4f856e1ea627303e52bd3dac225526ba368ec7eb6893ee95bdddb556af6a67'),\n",
       "  HexBytes('0xc7f2bd8b0825e1489d7133178cef713c1e72b344313b0cef28355340abb1e4d2'),\n",
       "  HexBytes('0x325422df3b5f2fec3edd9630f632fcd580cc8c20d01161cc8e15822428dc1560'),\n",
       "  HexBytes('0x1ca82e2520774ec4707322de529c8301d98988562ca24164ccce088a7cb19d4b'),\n",
       "  HexBytes('0x976937a4730106fe7f166541da73db7556c77005975be75f63903296ae8064c6'),\n",
       "  HexBytes('0xe8b4e019f05db007bdebbc896093e1314ca4ecc0e5bf2da5ce537e8677147176'),\n",
       "  HexBytes('0x0be7e0ef49f78afc11085e693f8383ec728add9f421ea78985ccb6360ddf9aeb'),\n",
       "  HexBytes('0x13cd55ffd8ea05edee9b08eb82e3031ddccfc99125bf63a83f0a37cbb25b2a01'),\n",
       "  HexBytes('0x4c7020b7c151929d97bef10885ca85a692e976ed533a6c54c5b9bbb0559a94ad'),\n",
       "  HexBytes('0x3ddf5185982dd760bf40b4fa02fbd3253021003ac1bc6516da634e49195ec542'),\n",
       "  HexBytes('0x09e8b5b6fd9f072cdd3e94a3f50cb55cd95b458f0350692d4c5b421c84aef497'),\n",
       "  HexBytes('0x5fb2b1c9d37b29d2baa57c0c8c09ba990dbb318132f26addf1b957e739878205'),\n",
       "  HexBytes('0xd402f80600cfd764ca48e859221966c59fa7ca8254bc30a164ed76c14ab1655a'),\n",
       "  HexBytes('0x57627b4a305cd0307a08b8e74499f20ac1e68b0fca84d5a1fdf68e75b17172a4'),\n",
       "  HexBytes('0xb5e4cbd94374a2c6c2e13cca6d1a3e99ac4f37dbada73756b920b26e246bbb41'),\n",
       "  HexBytes('0xcbb3c5051d0b4b5f24337605eb753969480b1f31492333aa0469ab1a08a8b7a1'),\n",
       "  HexBytes('0x9a3f600bacb6ac109adaeb7df5fc01d39f5a70e57bb7dcbab008498578f42f45'),\n",
       "  HexBytes('0x56d552e5f47ce3aa58ec0aabcaa4e605ef705cae6ef3cab1b14c5f892c3dd95e'),\n",
       "  HexBytes('0x86d8f0057f60eebaf6dee5f805b6fec443e209ddcf37ff5546747e0b162c49b5'),\n",
       "  HexBytes('0x6363745b583d8e9f97a9e243bc0d1f8376e5e332953429fa4a166764cf3bd50b'),\n",
       "  HexBytes('0xbef77417b96123612833573952a162cb1a1a34ff0182b818fad04ed41ff7c81e'),\n",
       "  HexBytes('0x2f85ec0551780e28bc905c451d723cf5380cd3438d141c1bc8b4980ea74eaae3'),\n",
       "  HexBytes('0xb3b0a56b0cd972fe26ef0fd4aee92c06fa9d0897497785c1b111e36388b8effa'),\n",
       "  HexBytes('0x0675d869a8f8d3c3887ce48b85ce9305a013bcd84c253d50ae708f2a28eff5d6'),\n",
       "  HexBytes('0x7e8771241c97cb2efabcbf796d57746ec85a3fafd0d4f739b73147387951e4c2'),\n",
       "  HexBytes('0x5208fc072e44371ad478c7921db409ad0a080c10aa188de157408a1d4fb6c325'),\n",
       "  HexBytes('0xfb4f80897f7810f3f39af9a5329bfaeb01bc046832428b2ec2e88c213434d5bd'),\n",
       "  HexBytes('0xc3c294707fb8e3c17acf17d09d9dfd3d31a4d44991da2acdb1117de523b729d7'),\n",
       "  HexBytes('0x527cd3803674b7855b457b642abbe5d7879037e86724c2743698018210a0d8ec'),\n",
       "  HexBytes('0x1ba16368861c9e9707b0556471e7066da2c53433cc07ddbd1d9a547abcb4916b'),\n",
       "  HexBytes('0x600a9ca84e2b8d34e9af4691d403025367cecac488065704360295cdfce82c18'),\n",
       "  HexBytes('0x79af1d2f31a9f6e6c77c889bfbaf9c11edcd7da1455ef4ed8faf92b9da070de2'),\n",
       "  HexBytes('0xefea6245e69662c3a43c4593bca287d756ce83fc5e9ef1e043d624cdf740cec9'),\n",
       "  HexBytes('0xc67c2a5d070f16f084e317f30c6322e25d8d576a9ff52eda2d0eae4f0a8dfc34'),\n",
       "  HexBytes('0x534883ef11cf3aa1d26cc98e36e1893da72c9d118be5d876f38f6b3bc9090b6f'),\n",
       "  HexBytes('0x24105448847f7d4c19726eb51b111cea6c09b2228118d79dc27832b8ea887a0c'),\n",
       "  HexBytes('0xc7b2c43390a891db657454538850123548623cd715809205db15b970cfbcfbee'),\n",
       "  HexBytes('0x3a3ccc61832583f2929db1dab54a8ae4178d5638cfbf3728765bfb53c2a554fa'),\n",
       "  HexBytes('0x1c772d9df62aa9cf946a08a8d04cc13b83df91e1a0ec0561340b86dcdd0c13e0'),\n",
       "  HexBytes('0x8187d40651e367516a1d2602a66953306d54de0bc80bab722792df1979277e55'),\n",
       "  HexBytes('0xb02cab1ebaa89b7fa3fd9f7c01d01f22a6b5f0b8c686d38c02937d3634366cb1'),\n",
       "  HexBytes('0xa2e4363c5df3e4dc64cd2f5008d6dbb983c763c97579723d5eb52a7d1f0c5df4'),\n",
       "  HexBytes('0x2656e61d2f741fea6dfbaf31e3fed747292b66f0a7debcf89b3722970442e32e'),\n",
       "  HexBytes('0xa30ced21b738124d40be96a799a0a2533ad438c4b6e1b2253589e4fb05d15a4e'),\n",
       "  HexBytes('0x6febfc8fdbd0681f9532e39a9267d96fdeffa17f97f69539e9568d729177058c'),\n",
       "  HexBytes('0xfd4a32340795615f75cf3caa6fdc0ebd17664ae541b7e0d72690682dc68a8329'),\n",
       "  HexBytes('0x5f867e6d1e64582c2a449051101918590209fe609bc42b02db5da15a349ce6e2'),\n",
       "  HexBytes('0xcb6f9d89513547e47f0f26a7aa1fe0e8caa140fd410eabc791c12dc602c3e592'),\n",
       "  HexBytes('0x2d0083b35c394482d153d07ab9406a7932b71c63d12977578678e48a740615ff'),\n",
       "  HexBytes('0x24f3160481c02afae622c65334165659dab9253ea8cc20232e6f49233fb4cbd4'),\n",
       "  HexBytes('0x9dcb2ff7d72e95b7658436b825e5aea204ed1d82e6919a5ca0c48ec796876557'),\n",
       "  HexBytes('0xd1735bf922c8848e5f7a8e63c29725391f2531a1665553e2162142a127f410f3'),\n",
       "  HexBytes('0x75a72c3f6f58dd4b0503e029979ce1b009797538f9c5a12c25bffa4c1b30ae54'),\n",
       "  HexBytes('0x0508985fd39dc791d1a883d29ae3f2352e672a053036af3fad4bb7efa1b02dc6'),\n",
       "  HexBytes('0xf59e47d74c5ed86314877a2d0c0645751d1a3fcfe2ba5a93b1a0c93ecc33cc7a'),\n",
       "  HexBytes('0xa30c77fbea28db8d20f6faeaa16f56a34fbfb89959b3a91120ef8503d2cb7676'),\n",
       "  HexBytes('0xdb5690496e92fda6739ca3f7b901863a5132f4aa63e31459a63c287b12dd21c9'),\n",
       "  HexBytes('0xbf3bb363f0d1392cd6c676ca89b29fb7fcca7cf7ddbd0611ab797d766c96c022'),\n",
       "  HexBytes('0x595bc21b7f2769e0a8adde4359682eda1b4c7c548385f1b1651d0526d0072296'),\n",
       "  HexBytes('0x4021ad64a97fdcaa9af380616b84b6736bc73f03a3a43baab468e5f332bdf3dd'),\n",
       "  HexBytes('0x2525b6d704b4646be4597bcd38dbc0e4d1dbe238cb9acb1b97095e7984287554')],\n",
       " 'transactionsRoot': HexBytes('0x1422780d91f6d0bbbc7e7c69d90f91f5e21bee787def4b1316ba101ee9ccf7a7'),\n",
       " 'uncles': []})"
      ]
     },
     "execution_count": 33,
     "metadata": {},
     "output_type": "execute_result"
    }
   ],
   "source": [
    "goerli_net.eth.get_block('latest')"
   ]
  },
  {
   "cell_type": "code",
   "execution_count": 34,
   "metadata": {},
   "outputs": [
    {
     "data": {
      "text/plain": [
       "AttributeDict({'blockHash': HexBytes('0x172920a63e0f1f931e752d3b65aecd4c9cc735c23c690974ccd570557f59f441'),\n",
       " 'blockNumber': 8248423,\n",
       " 'from': '0xB9a13598496f9046087c92Fd318FE3C451f0CB36',\n",
       " 'gas': 3000000,\n",
       " 'gasPrice': 30000000000,\n",
       " 'maxPriorityFeePerGas': 30000000000,\n",
       " 'maxFeePerGas': 30000000000,\n",
       " 'hash': HexBytes('0x855758a5f5b6238ca127eadabbc38dc747164f5b4466ae20e7863fe3b01b0b28'),\n",
       " 'input': '0xf56a9f24000000000000000000000000b9a13598496f9046087c92fd318fe3c451f0cb360000000000000000000000000000000000000000000000000000000000000040000000000000000000000000000000000000000000000000000000000000000868747470733a2f2f000000000000000000000000000000000000000000000000',\n",
       " 'nonce': 175,\n",
       " 'to': '0xb60E749DFcBb0CDFe2e8c2f1FbBf87d635665F8F',\n",
       " 'transactionIndex': 1,\n",
       " 'value': 0,\n",
       " 'type': '0x2',\n",
       " 'accessList': [],\n",
       " 'chainId': '0x5',\n",
       " 'v': 0,\n",
       " 'r': HexBytes('0xf01476023d5e8ed8cc576dbc341f667d163013c968353ddc5e8f9d75c6b897b9'),\n",
       " 's': HexBytes('0x45831879c951302703ac79fb2b69b9b4568f73cde7390e4d243c33493e517f67')})"
      ]
     },
     "execution_count": 34,
     "metadata": {},
     "output_type": "execute_result"
    }
   ],
   "source": [
    "goerli_net.eth.get_transaction('0x855758a5f5b6238ca127eadabbc38dc747164f5b4466ae20e7863fe3b01b0b28')"
   ]
  },
  {
   "cell_type": "code",
   "execution_count": 35,
   "metadata": {},
   "outputs": [],
   "source": [
    "my_account = \"0x8407B49453E2A8f974a8E466D05363B55B3a788C\""
   ]
  },
  {
   "cell_type": "code",
   "execution_count": 37,
   "metadata": {},
   "outputs": [],
   "source": [
    "my_account_balance = goerli_net.eth.get_balance(my_account)"
   ]
  },
  {
   "cell_type": "code",
   "execution_count": 39,
   "metadata": {},
   "outputs": [
    {
     "data": {
      "text/plain": [
       "Decimal('9.483133493509293956')"
      ]
     },
     "execution_count": 39,
     "metadata": {},
     "output_type": "execute_result"
    }
   ],
   "source": [
    "goerli_net.fromWei(my_account_balance, 'ether')"
   ]
  },
  {
   "cell_type": "code",
   "execution_count": 40,
   "metadata": {},
   "outputs": [],
   "source": [
    "shop_contract_address = \"0xE2D0c2230729C44a5D62a55B2915Df144c999CBe\"\n",
    "\n",
    "shop_contract_abi = '[{\"inputs\": [],\"name\": \"price\",\"outputs\": [{\"internalType\": \"uint256\",\"name\": \"\",\"type\": \"uint256\"}],\"stateMutability\": \"view\",\"type\": \"function\"}]'\n",
    "\n",
    "shop_contract = goerli_net.eth.contract(address=shop_contract_address, abi=shop_contract_abi)\n",
    "\n"
   ]
  },
  {
   "cell_type": "code",
   "execution_count": 41,
   "metadata": {},
   "outputs": [
    {
     "data": {
      "text/plain": [
       "1"
      ]
     },
     "execution_count": 41,
     "metadata": {},
     "output_type": "execute_result"
    }
   ],
   "source": [
    "shop_contract.functions.price().call()"
   ]
  },
  {
   "cell_type": "code",
   "execution_count": null,
   "metadata": {},
   "outputs": [],
   "source": []
  },
  {
   "cell_type": "code",
   "execution_count": null,
   "metadata": {},
   "outputs": [],
   "source": []
  }
 ],
 "metadata": {
  "kernelspec": {
   "display_name": "Python 3",
   "language": "python",
   "name": "python3"
  },
  "language_info": {
   "codemirror_mode": {
    "name": "ipython",
    "version": 3
   },
   "file_extension": ".py",
   "mimetype": "text/x-python",
   "name": "python",
   "nbconvert_exporter": "python",
   "pygments_lexer": "ipython3",
   "version": "3.10.6"
  },
  "orig_nbformat": 4,
  "vscode": {
   "interpreter": {
    "hash": "916dbcbb3f70747c44a77c7bcd40155683ae19c65e1c03b4aa3499c5328201f1"
   }
  }
 },
 "nbformat": 4,
 "nbformat_minor": 2
}
